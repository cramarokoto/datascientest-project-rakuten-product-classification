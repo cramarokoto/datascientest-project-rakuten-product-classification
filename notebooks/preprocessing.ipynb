{
 "cells": [
  {
   "cell_type": "markdown",
   "id": "f2f05b0e",
   "metadata": {},
   "source": [
    "# Chargement des données et séparation des features et target\n",
    "\n",
    "Avant tout préprocessing, on établit la séparation des données de train et de test afin de limiter la possibilité de data leak entre les jeux de données de train et de test. Nous avons choisi le ratio standard suivant : 80% de train, 20% de test.\n",
    "\n",
    "On sait que la classe 2583 (accessoires de piscines) est sur représentée dans le jeu de données. Nous avons décidé de :\n",
    "- faire de l'undersampling aléatoire pour diminuer sa présence à 3% au lieu de 12%\n",
    "- faire de l'oversampling aléatoire à 3% pour les classes minoritaires\n",
    "\n",
    "Cela permet d'équilibrer les classes présentes et améliorer les performances de l'apprentissage."
   ]
  },
  {
   "cell_type": "markdown",
   "id": "d841ddc6",
   "metadata": {},
   "source": [
    "#### Proportion de chaque classe dans les jeux de données\n",
    "\n",
    "| Classe | Train avant resampling | Train après resampling | Test      |\n",
    "|--------|------------------------|------------------------|-----------|\n",
    "| 2583   | 12.022316              | 3.703704               | 12.023081 |\n",
    "| 1560   | 5.973621               | 3.703704               | 5.976213  |\n",
    "| 1300   | 5.941235               | 3.703704               | 5.940886  |\n",
    "| 2060   | 5.879409               | 3.703704               | 5.882007  |\n",
    "| 2522   | 5.874993               | 3.703704               | 5.876119  |\n",
    "| 1280   | 5.735147               | 3.703704               | 5.734809  |\n",
    "| 2403   | 5.621798               | 3.703704               | 5.622939  |\n",
    "| 2280   | 5.605606               | 3.703704               | 5.605276  |\n",
    "| 1920   | 5.066832               | 3.703704               | 5.069477  |\n",
    "| 1160   | 4.654655               | 3.703704               | 4.657325  |\n",
    "| 1320   | 3.817052               | 3.703704               | 3.815356  |\n",
    "| 10     | 3.669846               | 3.703704               | 3.668158  |\n",
    "| 2705   | 3.251781               | 3.703704               | 3.250118  |\n",
    "| 1140   | 3.145793               | 3.703704               | 3.144136  |\n",
    "| 2582   | 3.048637               | 3.703704               | 3.049929  |\n",
    "| 40     | 2.952953               | 3.703704               | 2.955723  |\n",
    "| 2585   | 2.939704               | 3.703704               | 2.938059  |\n",
    "| 1302   | 2.933816               | 3.703704               | 2.932171  |\n",
    "| 1281   | 2.437732               | 3.703704               | 2.437588  |\n",
    "| 50     | 1.979921               | 3.703704               | 1.978333  |\n",
    "| 2462   | 1.673733               | 3.703704               | 1.672162  |\n",
    "| 2905   | 1.027498               | 3.703704               | 1.024494  |\n",
    "| 60     | 0.980392               | 3.703704               | 0.977390  |\n",
    "| 2220   | 0.970088               | 3.703704               | 0.971503  |\n",
    "| 1301   | 0.950951               | 3.703704               | 0.947951  |\n",
    "| 1940   | 0.945063               | 3.703704               | 0.947951  |\n",
    "| 1180   | 0.899429               | 3.703704               | 0.900848  |"
   ]
  },
  {
   "cell_type": "markdown",
   "id": "dc74c90f",
   "metadata": {},
   "source": [
    "# Preprocessing des données"
   ]
  },
  {
   "cell_type": "markdown",
   "id": "4f056de9",
   "metadata": {},
   "source": [
    "## Preprocessing des données textuelles"
   ]
  },
  {
   "cell_type": "markdown",
   "id": "71574319",
   "metadata": {},
   "source": [
    "### Création de la variable `has_description` basée sur la présence de la variable `description`"
   ]
  },
  {
   "cell_type": "markdown",
   "id": "bae68799",
   "metadata": {},
   "source": [
    "Nous avons vu lors de l'exploration que la répartition de la présence de description n'est pas homogène parmi les catégories de produits. On peut en déduire que l'absence ou présence de description est une information à part entière qu'il peut être intéressant d'exploiter dans nos modèles.\n",
    "\n",
    "Nous décidons de créer la variable `has_description` qui vaut :\n",
    "- 1 si la description est présente\n",
    "- 0 sinon"
   ]
  },
  {
   "cell_type": "markdown",
   "id": "8a14bf2e",
   "metadata": {},
   "source": [
    "### Fusion des variables `designation` et `description` dans `full_description`"
   ]
  },
  {
   "cell_type": "markdown",
   "id": "4037be98",
   "metadata": {},
   "source": [
    "La `description` et la `designation` sont toutes les deux des valeurs textuelles libres. Bien que `designation` soit plus courte, elles apportent le même type d'information sur le produit c'est-à-dire sa description et son appellation commune. `description` pouvant être nulle, cela peut être gênant pour son intégration dans les modèles. \n",
    "\n",
    "Afin de faciliter le traitement de ces deux valeurs textuelles, nous décidons de les fusionner dans une variable nommée `full_description`"
   ]
  },
  {
   "cell_type": "markdown",
   "id": "f3693a70",
   "metadata": {},
   "source": [
    "### Nettoyage, tokenisation et stemmatisation de la variable `full_description`"
   ]
  },
  {
   "cell_type": "markdown",
   "id": "c079e424",
   "metadata": {},
   "source": [
    "Nous souhaitons faire les étapes de préprocessing suivantes :\n",
    "\n",
    "- Suppression des stop words (anglais et français)\n",
    "- Suppression des ponctuations\n",
    "- Suppression des balises HTML\n",
    "- Stemmatisation\n",
    "- Application d'un TF IDF\n",
    "\n",
    "Après quelques tentatives de création d'un process, nous décidons d'abandonner la stemmatisation. On note avec l'extrait ci-dessous que la stemmatisation est trop violente sur le contenu de la variable d'une part et qu'il n'est pas adapté sur un contenu multilingue tel que nous avons ici (français, anglais mais aussi parfois allemand). Afin de limiter la perte en information, nous décidons de ne pas appliquer de lemmatisation ni de stemmatisation."
   ]
  },
  {
   "cell_type": "markdown",
   "id": "81edae08",
   "metadata": {},
   "source": [
    "| preprocessed_full_description |                                  full_description |                                                   |\n",
    "|------------------------------:|--------------------------------------------------:|---------------------------------------------------|\n",
    "|                             0 |                              ship focus record 31 |                          Ships In Focus Record 31 |\n",
    "|                             1 | convergent divergent alignment standardsassess... | Convergence Or Divergence: Alignment Of Standa... |\n",
    "|                             2 | lecon scienc cour superieur premier anne certi... | Lecons De Sciences - Cours Superieur - Premier... |\n",
    "|                             3 |                             gener women historian |                   Generations Of Women Historians |\n",
    "|                             4 | magnet encycloped spiritual trait spécial fait... | Magnétisme: Encyclopédie Magnétique Spirituali... |\n",
    "|                             5 | inglorious art peac exhibit canadian society n... | The Inglorious Arts Of Peace: Exhibitions In C... |\n",
    "|                             6 |              sylvi souvient-il vi giacomo leopard | Sylvia Te Souvient-Il ? - Vie De Giacomo Leopardi |\n",
    "|                             7 |                             trachom malad pauvret |          Le Trachome - Une Maladie De La Pauvreté |\n",
    "|                             8 |                   business associ 2006 statut rul |    Business Associations: 2006 Statutes And Rules |\n",
    "|                             9 |                        luun tom 8 l'attrapeur rêv |               Luuna Tome 8 - L'attrapeur De Rêves |"
   ]
  },
  {
   "cell_type": "markdown",
   "id": "14c22d57",
   "metadata": {},
   "source": [
    "Il aurait aussi été possible de traduire les textes pour uniformiser la langue employée mais cela représente :\n",
    "- un traitement coûteux\n",
    "- un risque de perte d'information si la traduction n'est pas de bonne qualité\n",
    "\n",
    "Comme le jeu de données est conséquent, on peut s'attendre à ce que les algorithme d'analyse textuel arrivent à extraire l'information utile malgré la présence de multiple langues.\n",
    "\n",
    "On décide donc de limiter le prétraitement textuel aux éléments suivants :\n",
    "- nettoyage des stopwords anglais et français\n",
    "- nettoyage de la ponctuation\n",
    "- tokenisation des chaînes de caractères"
   ]
  },
  {
   "cell_type": "markdown",
   "id": "31dfce9e",
   "metadata": {},
   "source": [
    "### Application de TF-IDF à la variable `full_description`"
   ]
  },
  {
   "cell_type": "markdown",
   "id": "b305bb9d",
   "metadata": {},
   "source": [
    "En l'état, les chaînes de caractères dans full_description sont difficilement exploitables par des algorithmes de machine learning.\n",
    "\n",
    "Il est nécessaire de les transformer en valeurs numériques interprétables. Nous avons décidé d'appliquer le TF-IDF pour une extraction de donnée rapide et efficace suite à notre analyse en wordcloud qui fait apparaître la répétition de mots clés pour chaque catégorie de produits."
   ]
  },
  {
   "cell_type": "markdown",
   "id": "8c65cc41",
   "metadata": {},
   "source": [
    "### Sauvegarde des données textuelles suite à leur préprocessing"
   ]
  },
  {
   "cell_type": "markdown",
   "id": "77a2d00a",
   "metadata": {},
   "source": [
    "Afin de faciliter le travail sur plusieurs modèles et gagner du temps, on décide de sauvegarder les données prétraitées."
   ]
  },
  {
   "cell_type": "markdown",
   "id": "16796cb2",
   "metadata": {},
   "source": [
    "## Preprocessing des données graphiques"
   ]
  },
  {
   "cell_type": "markdown",
   "id": "8fec2c7e",
   "metadata": {},
   "source": []
  }
 ],
 "metadata": {
  "kernelspec": {
   "display_name": "py311",
   "language": "python",
   "name": "python3"
  },
  "language_info": {
   "codemirror_mode": {
    "name": "ipython",
    "version": 3
   },
   "file_extension": ".py",
   "mimetype": "text/x-python",
   "name": "python",
   "nbconvert_exporter": "python",
   "pygments_lexer": "ipython3",
   "version": "3.11.13"
  }
 },
 "nbformat": 4,
 "nbformat_minor": 5
}
