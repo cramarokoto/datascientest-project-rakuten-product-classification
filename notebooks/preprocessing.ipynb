{
 "cells": [
  {
   "cell_type": "markdown",
   "id": "f2f05b0e",
   "metadata": {},
   "source": [
    "# Chargement des données et séparation des features et target\n",
    "\n",
    "Avant tout préprocessing, on établit la séparation des données de train et de test afin de limiter la possibilité de data leak entre les jeux de données de train et de test. Nous avons choisi le ratio standard suivant : 80% de train, 20% de test.\n",
    "\n",
    "On sait que la classe 2583 (accessoires de piscines) est sur représentée dans le jeu de données. Nous avons décidé de :\n",
    "- faire de l'undersampling aléatoire pour diminuer sa présence à 3% au lieu de 12%\n",
    "- faire de l'oversampling aléatoire à 3% pour les classes minoritaires\n",
    "\n",
    "Cela permet d'équilibrer les classes présentes et améliorer les performances de l'apprentissage.\n",
    "\n",
    "Le jeu de test lui reste inchangé et déséquilibré comme dans la réalité."
   ]
  },
  {
   "cell_type": "markdown",
   "id": "d841ddc6",
   "metadata": {},
   "source": [
    "#### Proportion de chaque classe dans les jeux de données\n",
    "\n",
    "| Classe | Train avant resampling | Train après resampling | Test      |\n",
    "|--------|------------------------|------------------------|-----------|\n",
    "| 2583   | 12.022316              | 3.703704               | 12.023081 |\n",
    "| 1560   | 5.973621               | 3.703704               | 5.976213  |\n",
    "| 1300   | 5.941235               | 3.703704               | 5.940886  |\n",
    "| 2060   | 5.879409               | 3.703704               | 5.882007  |\n",
    "| 2522   | 5.874993               | 3.703704               | 5.876119  |\n",
    "| 1280   | 5.735147               | 3.703704               | 5.734809  |\n",
    "| 2403   | 5.621798               | 3.703704               | 5.622939  |\n",
    "| 2280   | 5.605606               | 3.703704               | 5.605276  |\n",
    "| 1920   | 5.066832               | 3.703704               | 5.069477  |\n",
    "| 1160   | 4.654655               | 3.703704               | 4.657325  |\n",
    "| 1320   | 3.817052               | 3.703704               | 3.815356  |\n",
    "| 10     | 3.669846               | 3.703704               | 3.668158  |\n",
    "| 2705   | 3.251781               | 3.703704               | 3.250118  |\n",
    "| 1140   | 3.145793               | 3.703704               | 3.144136  |\n",
    "| 2582   | 3.048637               | 3.703704               | 3.049929  |\n",
    "| 40     | 2.952953               | 3.703704               | 2.955723  |\n",
    "| 2585   | 2.939704               | 3.703704               | 2.938059  |\n",
    "| 1302   | 2.933816               | 3.703704               | 2.932171  |\n",
    "| 1281   | 2.437732               | 3.703704               | 2.437588  |\n",
    "| 50     | 1.979921               | 3.703704               | 1.978333  |\n",
    "| 2462   | 1.673733               | 3.703704               | 1.672162  |\n",
    "| 2905   | 1.027498               | 3.703704               | 1.024494  |\n",
    "| 60     | 0.980392               | 3.703704               | 0.977390  |\n",
    "| 2220   | 0.970088               | 3.703704               | 0.971503  |\n",
    "| 1301   | 0.950951               | 3.703704               | 0.947951  |\n",
    "| 1940   | 0.945063               | 3.703704               | 0.947951  |\n",
    "| 1180   | 0.899429               | 3.703704               | 0.900848  |"
   ]
  },
  {
   "cell_type": "markdown",
   "id": "dc74c90f",
   "metadata": {},
   "source": [
    "# Preprocessing des données"
   ]
  },
  {
   "cell_type": "markdown",
   "id": "4f056de9",
   "metadata": {},
   "source": [
    "## Preprocessing des données textuelles"
   ]
  },
  {
   "cell_type": "markdown",
   "id": "71574319",
   "metadata": {},
   "source": [
    "### Création de la variable `has_description` basée sur la présence de la variable `description`"
   ]
  },
  {
   "cell_type": "markdown",
   "id": "bae68799",
   "metadata": {},
   "source": [
    "Nous avons vu lors de l'exploration que la répartition de la présence de description n'est pas homogène parmi les catégories de produits. On peut en déduire que l'absence ou présence de description est une information à part entière qu'il peut être intéressant d'exploiter dans nos modèles.\n",
    "\n",
    "Nous décidons de créer la variable `has_description` qui vaut :\n",
    "- 1 si la description est présente\n",
    "- 0 sinon"
   ]
  },
  {
   "cell_type": "markdown",
   "id": "8a14bf2e",
   "metadata": {},
   "source": [
    "### Fusion des variables `designation` et `description` dans `full_description`"
   ]
  },
  {
   "cell_type": "markdown",
   "id": "4037be98",
   "metadata": {},
   "source": [
    "La `description` et la `designation` sont toutes les deux des valeurs textuelles libres. Bien que `designation` soit plus courte, elles apportent le même type d'information sur le produit c'est-à-dire sa description et son appellation commune. `description` pouvant être nulle, cela peut être gênant pour son intégration dans les modèles. \n",
    "\n",
    "Afin de faciliter le traitement de ces deux valeurs textuelles, nous décidons de les fusionner dans une variable nommée `full_description`"
   ]
  },
  {
   "cell_type": "markdown",
   "id": "f3693a70",
   "metadata": {},
   "source": [
    "### Nettoyage, tokenisation et stemmatisation de la variable `full_description`"
   ]
  },
  {
   "cell_type": "markdown",
   "id": "c079e424",
   "metadata": {},
   "source": [
    "Nous souhaitons faire les étapes de préprocessing suivantes :\n",
    "\n",
    "- Suppression des stop words (anglais et français)\n",
    "- Suppression des ponctuations\n",
    "- Suppression des balises HTML\n",
    "- Stemmatisation\n",
    "- Application d'un TF IDF\n",
    "\n",
    "Après quelques tentatives de création d'un process, nous décidons d'abandonner la stemmatisation. On note avec l'extrait ci-dessous que la stemmatisation est trop violente sur le contenu de la variable d'une part et qu'il n'est pas adapté sur un contenu multilingue tel que nous avons ici (français, anglais mais aussi parfois allemand). Afin de limiter la perte en information, nous décidons de ne pas appliquer de lemmatisation ni de stemmatisation."
   ]
  },
  {
   "cell_type": "markdown",
   "id": "81edae08",
   "metadata": {},
   "source": [
    "|                               |                      preprocessed_full_description|                                   full_description|\n",
    "|------------------------------:|--------------------------------------------------:|---------------------------------------------------|\n",
    "|                             0 |                              ship focus record 31 |                          Ships In Focus Record 31 |\n",
    "|                             1 | convergent divergent alignment standardsassess... | Convergence Or Divergence: Alignment Of Standa... |\n",
    "|                             2 | lecon scienc cour superieur premier anne certi... | Lecons De Sciences - Cours Superieur - Premier... |\n",
    "|                             3 |                             gener women historian |                   Generations Of Women Historians |\n",
    "|                             4 | magnet encycloped spiritual trait spécial fait... | Magnétisme: Encyclopédie Magnétique Spirituali... |\n",
    "|                             5 | inglorious art peac exhibit canadian society n... | The Inglorious Arts Of Peace: Exhibitions In C... |\n",
    "|                             6 |              sylvi souvient-il vi giacomo leopard | Sylvia Te Souvient-Il ? - Vie De Giacomo Leopardi |\n",
    "|                             7 |                             trachom malad pauvret |          Le Trachome - Une Maladie De La Pauvreté |\n",
    "|                             8 |                   business associ 2006 statut rul |    Business Associations: 2006 Statutes And Rules |\n",
    "|                             9 |                        luun tom 8 l'attrapeur rêv |               Luuna Tome 8 - L'attrapeur De Rêves |"
   ]
  },
  {
   "cell_type": "markdown",
   "id": "14c22d57",
   "metadata": {},
   "source": [
    "Il aurait aussi été possible de traduire les textes pour uniformiser la langue employée mais cela représente :\n",
    "- un traitement coûteux\n",
    "- un risque de perte d'information si la traduction n'est pas de bonne qualité\n",
    "\n",
    "Comme le jeu de données est conséquent, on peut s'attendre à ce que les algorithmes d'analyse textuelle arrivent à extraire l'information utile malgré la présence de multiple langues.\n",
    "\n",
    "Nous décidons donc de limiter le prétraitement textuel aux éléments suivants :\n",
    "- nettoyage des stopwords anglais et français\n",
    "- nettoyage de la ponctuation\n",
    "- nettoyage des balises HTML\n",
    "- tokenisation des chaînes de caractères"
   ]
  },
  {
   "cell_type": "markdown",
   "id": "2f975acb",
   "metadata": {},
   "source": [
    "### Suppression des variables à faible variance\n",
    "\n",
    "Nous décidons de supprimer les variables `productid` et `imageid` car elle n'apportent pas d'information utile pour notre classification et ne sont liées à aucune variance sur la variable cible."
   ]
  },
  {
   "cell_type": "markdown",
   "id": "31dfce9e",
   "metadata": {},
   "source": [
    "### Application de TF-IDF à la variable `full_description`"
   ]
  },
  {
   "cell_type": "markdown",
   "id": "b305bb9d",
   "metadata": {},
   "source": [
    "En l'état, les chaînes de caractères dans full_description sont difficilement exploitables par des algorithmes de machine learning.\n",
    "\n",
    "Il est nécessaire de les transformer en valeurs numériques interprétables. Nous avons décidé d'appliquer le TF-IDF pour une extraction de donnée rapide et efficace suite à notre analyse en wordcloud qui fait apparaître la répétition de mots clés pour chaque catégorie de produits.\n",
    "\n",
    "Nous avons choisi d'appliquer un TF IDF avec :\n",
    "- 10 000 features\n",
    "- un n-gram de (1,1)\n",
    "- un seuil minimal de présence des mots dans 10 documents\n",
    "\n",
    "Après analyse de la taille des données prétraitées et de leur nombre de dimensions, nous avons décidé de réduire les dimensions via TruncatedSVD. La littérature nous a permis de choisir un seuil acceptable de 200 components. Cette réduction nous permet de nous adapter à notre capacité de calcul limitée sur nos postes personnels."
   ]
  },
  {
   "cell_type": "markdown",
   "id": "8c65cc41",
   "metadata": {},
   "source": [
    "### Sauvegarde des données textuelles suite à leur préprocessing"
   ]
  },
  {
   "cell_type": "markdown",
   "id": "77a2d00a",
   "metadata": {},
   "source": [
    "Afin de faciliter le travail sur plusieurs modèles et gagner du temps, on décide de sauvegarder les données prétraitées avec joblib au format pkl."
   ]
  },
  {
   "cell_type": "markdown",
   "id": "16796cb2",
   "metadata": {},
   "source": [
    "## Preprocessing des images"
   ]
  },
  {
   "cell_type": "markdown",
   "id": "c2d958a2",
   "metadata": {},
   "source": [
    "### Transformation des images"
   ]
  },
  {
   "cell_type": "markdown",
   "id": "8fec2c7e",
   "metadata": {},
   "source": [
    "\n",
    "\n",
    "\n",
    "Toutes les images initiales étaient en couleur et de taille 500 × 500 pixels. Afin de réduire la complexité computationnelle et de faciliter l’entraînement des modèles, elles ont été transformées en images en nuances de gris et redimensionnées en 200 × 200 pixels.\n",
    "\n",
    "Justification :\n",
    "\n",
    "- La réduction de taille permet de diminuer significativement la dimension des données (de 500 × 500 × 3 ≈ 750 000 valeurs par image à 200 × 200 × 1 = 40 000 valeurs par image).\n",
    "\n",
    "- Le passage en nuances de gris supprime l’information de couleur jugée moins importante que les formes, motifs et textures dans notre compromis d'efficacité.\n",
    "\n",
    "Conséquences :\n",
    "\n",
    "- Perte d’information visuelle : perte de détails lors de la transformation de dimension; et certaines caractéristiques basées sur la couleur disparaissent, ce qui peut limiter la performance si la couleur est discriminante pour certaines classes.\n",
    "\n",
    "- En contrepartie, cela réduit fortement le coût mémoire et le temps de calcul.\n",
    "\n",
    "Toutes les images ainsi transformées ont été sauvegardées dans un répertoire commun pour être rélié aux données et utiliser facilement à partir d'un chemin d'accès standardisé."
   ]
  },
  {
   "cell_type": "markdown",
   "id": "2df7d8c7",
   "metadata": {},
   "source": [
    "### Alignement avec les données textuelles (équilibrage des classes)"
   ]
  },
  {
   "cell_type": "markdown",
   "id": "e2570b9b",
   "metadata": {},
   "source": [
    "\n",
    "Pour garantir une cohérence avec les travaux menés sur les données textuelles, la même stratégie d’oversampling et d’undersampling a été appliquée sur les images. Cela permet de sélectionner uniquement les images correspondant aux échantillons retenus après rééquilibrage des classes.\n",
    "\n",
    "Justification :\n",
    "\n",
    "- L’alignement entre données textuelles et images est essentiel afin que les modèles multimodaux ou les comparaisons de performances restent pertinents.\n",
    "\n",
    "- Le rééquilibrage assure une meilleure représentativité des classes minoritaires et évite que les modèles ne soient biaisés vers les classes majoritaires.\n",
    "\n",
    "Conséquences :\n",
    "\n",
    "- L’équilibrage artificiel peut introduire une légère distorsion par rapport à la distribution réelle des données, mais il améliore la robustesse du modèle en apprentissage."
   ]
  },
  {
   "cell_type": "markdown",
   "id": "a294075b",
   "metadata": {},
   "source": [
    "### Encodage des classes cibles"
   ]
  },
  {
   "cell_type": "markdown",
   "id": "923df9e5",
   "metadata": {},
   "source": [
    "Le même encodeur que pour les données textuelles a été utilisé sur les classes. Notamment pour la regréssion logistique, si les classes sont d'ordre numérique, il est plus pertinent de les classer de 0 au nombre de classes (-1).\n",
    "\n",
    "Justification :\n",
    "\n",
    "- Plus facilement exploitable par les modèles.\n",
    "\n",
    "- Cela permet également une comparaison directe des résultats aux modèles textuels.."
   ]
  },
  {
   "cell_type": "markdown",
   "id": "6ea096ff",
   "metadata": {},
   "source": [
    "### Découpage du jeu de données"
   ]
  },
  {
   "cell_type": "markdown",
   "id": "83173bc9",
   "metadata": {},
   "source": [
    "La séparation en ensemble d’entraînement et ensemble de test a été réalisée selon les mêmes proportions que pour le texte. On utilise le même random_state ce qui permet d'obtenir exactement les mêmes données cibles.\n",
    "\n",
    "Justification :\n",
    "\n",
    "- Le respect des mêmes règles de séparation garantit la validité des comparaisons.\n",
    "\n",
    "- Un jeu de données d'entraînement et de test désignant les mêmes données permet une interprétation plus juste de la pertinence d'un modèle ou d'un autre."
   ]
  },
  {
   "cell_type": "markdown",
   "id": "dfd8c870",
   "metadata": {},
   "source": [
    "### Réduction de dimension par PCA incrémental"
   ]
  },
  {
   "cell_type": "markdown",
   "id": "72a11291",
   "metadata": {},
   "source": [
    "Étant donné la dimension élevée des images (40 000 variables par image après réduction et passage en niveaux de gris), nous appliquons un PCA (Analyse en Composantes Principales) incrémental avec des batchs de 512 images. Le nombre de composantes retenu est 256.\n",
    "Nous profitons du parcours de toutes les images en batch pour normaliser les valeurs de chaque pixel (initialement des entiers de 0 à 255) en float de 0 à 1 (en float32, 2x moins gourmand en mémoire que les float64).\n",
    "\n",
    "Justification :\n",
    "\n",
    "- Le PCA permet de réduire drastiquement la dimensionnalité, facilitant l’apprentissage tout en éliminant la redondance d’information.\n",
    "\n",
    "- La version incrémentale du PCA est adaptée au traitement de grandes bases de données, car elle évite de charger l’ensemble des images en mémoire simultanément.\n",
    "\n",
    "- Le choix de 256 composantes vise un compromis entre compression et préservation de l’information utile.\n",
    "\n",
    "- La normalisation adapte la donnée aux modèles souvent sensibles à l'échelle des variables, comme le PCA. Elle permet une convergence plus rapide et stabilise les calculs sans aucune perte d'information.\n",
    "\n",
    "Conséquences :\n",
    "\n",
    "- Réduction du nombre de variables de 40 000 à 256, soit un facteur de compression considérable.\n",
    "\n",
    "- Perte d’une partie de l’information : seules les directions de variance les plus importantes sont conservées. Cela peut entraîner une diminution de la performance si des détails subtils mais discriminants sont contenus dans les dimensions supprimées.\n",
    "\n",
    "- En contrepartie, les données obtenues sont beaucoup plus légères et exploitables efficacement par les modèles d’apprentissage. Les ressources requises ne nous permettent pas de nous en passer pour un jeu si grand.\n",
    "\n",
    "- La normalisation alourdit la mémoire allouée aux données. (de int à float)"
   ]
  },
  {
   "cell_type": "markdown",
   "id": "9879769f",
   "metadata": {},
   "source": [
    "### Conclusion"
   ]
  },
  {
   "cell_type": "markdown",
   "id": "6abed414",
   "metadata": {},
   "source": [
    "Le preprocessing mis en place repose sur une logique de réduction de la complexité et de cohérence méthodologique avec les travaux textuels. Chaque étape a été pensée pour :\n",
    "\n",
    "- Limiter les coûts computationnels (réduction de taille, passage en gris, PCA).\n",
    "\n",
    "- Aligner les données images avec les données textuelles (équilibrage des classes, encodage et découpage identiques).\n",
    "\n",
    "- Préserver autant que possible la qualité de l’information, malgré les pertes inévitables dues à la compression et à la suppression de la couleur.\n",
    "\n",
    "Ces choix constituent un compromis entre faisabilité technique et qualité de l’information conservée."
   ]
  },
  {
   "cell_type": "markdown",
   "id": "76266a65",
   "metadata": {},
   "source": [
    "### Alternative envisageable"
   ]
  },
  {
   "cell_type": "markdown",
   "id": "fdd2e9e7",
   "metadata": {},
   "source": [
    "Nous aurions pu effectuer une réduction d'information par image plus faible (conserver les couleurs, conserver plus de pixels ou un nombre de composantes du PCA plus grand) mais nous aurions dû drastiquement diminuer la taille du jeu de données en un échantillon drastiquement plus petit. La réduction à chaque étape étant très considérable, la taille de l'échantillon serait sûrement minime.\n",
    "\n",
    "Nous pourrions toutefois réfléchir à : \n",
    "- Conserver les couleurs\n",
    "- Diminuer la dimension de l'image pour compenser le traitement.\n",
    "- Il faudrait comparer la pertinence de la conservation de l'information par PCA entre de 1. de nombreuses informations en gris ou 2. moins d'information mais colorées."
   ]
  }
 ],
 "metadata": {
  "kernelspec": {
   "display_name": "py311",
   "language": "python",
   "name": "python3"
  },
  "language_info": {
   "codemirror_mode": {
    "name": "ipython",
    "version": 3
   },
   "file_extension": ".py",
   "mimetype": "text/x-python",
   "name": "python",
   "nbconvert_exporter": "python",
   "pygments_lexer": "ipython3",
   "version": "3.11.13"
  }
 },
 "nbformat": 4,
 "nbformat_minor": 5
}
